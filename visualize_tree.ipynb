{
 "cells": [
  {
   "cell_type": "markdown",
   "id": "1f42b2fc",
   "metadata": {},
   "source": [
    "### Decision Tree Visualization \n",
    "\n",
    "#### Note: This Visualization Notebook is for learning and understanding decision trees and multiclassifiction. Although this will not be graded, we encourage you to use the notebook to learn more about the assignment. The sklearn (scikit-learn) library is used on this notebook, and will not be allowed to be used on the assignment. Do not call or use this library in your assignment submission file.\n",
    "\n",
    "Some students have had trouble finding a 0.17 version of graphviz for this assignment. Since the course suggests conda, the best source for a library is from https://anaconda.org. Enter this command from your ai_env Terminal, ***conda install -c conda-forge python-graphviz*** which installs version 0.19 (compatible)"
   ]
  },
  {
   "cell_type": "code",
   "execution_count": null,
   "id": "c7e2f70e",
   "metadata": {},
   "outputs": [],
   "source": [
    "# Install important libraries͏󠄂͏️͏󠄌͏󠄎͏︈͏͏󠄁\n",
    "from sklearn.tree import DecisionTreeClassifier, export_graphviz\n",
    "from sklearn import tree\n",
    "from sklearn.datasets import load_wine\n",
    "from IPython.display import SVG\n",
    "from graphviz import Source\n",
    "from IPython.display import display\n",
    "from submission import load_csv"
   ]
  },
  {
   "cell_type": "code",
   "execution_count": null,
   "id": "36d5308e",
   "metadata": {
    "lines_to_next_cell": 2
   },
   "outputs": [],
   "source": [
    "# Compute features and classes for the dataset for which you want to visualize͏󠄂͏️͏󠄌͏󠄎͏︈͏͏󠄁\n",
    "# Just uncomment the lines for the dataset you want to visualize as a Decision Tree.͏󠄂͏️͏󠄌͏󠄎͏︈͏͏󠄁\n",
    "\n",
    "## For visualizing hand_binary.csv͏󠄂͏️͏󠄌͏󠄎͏︈͏͏󠄁 \n",
    "features,classes = load_csv('./data/hand_binary.csv',-1)\n",
    "feat_names = ['Col0','Col1', 'Col2', 'Col3']\n",
    "class_names = ['0', '1']\n",
    "\n",
    "## For visualizing hand_multi.csv a hand build multiclass tree͏󠄂͏️͏󠄌͏󠄎͏︈͏͏󠄁 \n",
    "# features,classes = load_csv('./data/hand_multi.csv',-1)͏󠄂͏️͏󠄌͏󠄎͏︈͏͏󠄁\n",
    "# feat_names = ['Col0','Col1', 'Col2', 'Col3']͏󠄂͏️͏󠄌͏󠄎͏︈͏͏󠄁\n",
    "# class_names = ['0', '1', '2']͏󠄂͏️͏󠄌͏󠄎͏︈͏͏󠄁\n",
    "\n",
    "## For visualizing simple_binary.csv͏󠄂͏️͏󠄌͏󠄎͏︈͏͏󠄁 \n",
    "# features,classes = load_csv('./data/simple_binary.csv',-1)͏󠄂͏️͏󠄌͏󠄎͏︈͏͏󠄁\n",
    "# feat_names = ['Col0', 'Col1', 'Col2', 'Col3', 'Col4']͏󠄂͏️͏󠄌͏󠄎͏︈͏͏󠄁\n",
    "# class_names = ['0', '1']͏󠄂͏️͏󠄌͏󠄎͏︈͏͏󠄁\n",
    "\n",
    "## For visualizing simple_multi.csv͏󠄂͏️͏󠄌͏󠄎͏︈͏͏󠄁 \n",
    "# features,classes = load_csv('./data/simple_multi.csv',-1)͏󠄂͏️͏󠄌͏󠄎͏︈͏͏󠄁\n",
    "# feat_names = ['Col0', 'Col1', 'Col2', 'Col3', 'Col4', 'Col5']͏󠄂͏️͏󠄌͏󠄎͏︈͏͏󠄁\n",
    "# class_names = ['0', '1', '2']͏󠄂͏️͏󠄌͏󠄎͏︈͏͏󠄁\n",
    "\n",
    "## For visualizing mod_complex_binary.csv͏󠄂͏️͏󠄌͏󠄎͏︈͏͏󠄁 \n",
    "# features,classes = load_csv('./data/mod_complex_binary.csv',-1)͏󠄂͏️͏󠄌͏󠄎͏︈͏͏󠄁\n",
    "# feat_names = ['Col0', 'Col1', 'Col2', 'Col3', 'Col4', 'Col5', 'Col6']͏󠄂͏️͏󠄌͏󠄎͏︈͏͏󠄁\n",
    "# class_names = ['0', '1']͏󠄂͏️͏󠄌͏󠄎͏︈͏͏󠄁\n",
    "\n",
    "## For visualizing mod_complex_multi.csv͏󠄂͏️͏󠄌͏󠄎͏︈͏͏󠄁 \n",
    "# features,classes = load_csv('./data/mod_complex_multi.csv',-1)͏󠄂͏️͏󠄌͏󠄎͏︈͏͏󠄁\n",
    "# feat_names = ['Col0', 'Col1', 'Col2', 'Col3', 'Col4', 'Col5', 'Col6', 'Col7', 'Col8', 'Col9']͏󠄂͏️͏󠄌͏󠄎͏︈͏͏󠄁\n",
    "# class_names = ['0', '1', '2', '3', '4']͏󠄂͏️͏󠄌͏󠄎͏︈͏͏󠄁\n",
    "\n",
    "## For visualizing mod_complex_binary.csv͏󠄂͏️͏󠄌͏󠄎͏︈͏͏󠄁\n",
    "# features,classes = load_csv('./data/complex_binary.csv',-1)͏󠄂͏️͏󠄌͏󠄎͏︈͏͏󠄁\n",
    "# feat_names = ['Col0', 'Col1', 'Col2', 'Col3', 'Col4', 'Col5', 'Col6', 'Col7', 'Col8', 'Col9']͏󠄂͏️͏󠄌͏󠄎͏︈͏͏󠄁\n",
    "# class_names = ['0', '1']͏󠄂͏️͏󠄌͏󠄎͏︈͏͏󠄁\n",
    "\n",
    "## For visualizing mod_complex_multi.csv͏󠄂͏️͏󠄌͏󠄎͏︈͏͏󠄁\n",
    "# features,classes = load_csv('./data/complex_multi.csv',-1)͏󠄂͏️͏󠄌͏󠄎͏︈͏͏󠄁\n",
    "# feat_names = ['Col0', 'Col1', 'Col2', 'Col3', 'Col4', 'Col5', 'Col6', 'Col7', 'Col8', 'Col9',͏󠄂͏️͏󠄌͏󠄎͏︈͏͏󠄁\n",
    "#                 'Col10', 'Col11', 'Col12', 'Col13', 'Col14', 'Col15']]͏󠄂͏️͏󠄌͏󠄎͏︈͏͏󠄁\n",
    "# class_names = ['0', '1', '2', '3', '4', '5', '6', '7', '8']͏󠄂͏️͏󠄌͏󠄎͏︈͏͏󠄁\n",
    "\n",
    "## For visualizing part23_data.csv͏󠄂͏️͏󠄌͏󠄎͏︈͏͏󠄁\n",
    "# features,classes = load_csv('part23_data.csv',-1)͏󠄂͏️͏󠄌͏󠄎͏︈͏͏󠄁\n",
    "# labels = ['A1','A2','A3','A4']͏󠄂͏️͏󠄌͏󠄎͏︈͏͏󠄁\n",
    "\n",
    "## For visualizing vectorize.csv dataset͏󠄂͏️͏󠄌͏󠄎͏︈͏͏󠄁\n",
    "# features,classes = load_csv('vectorize.csv',0)͏󠄂͏️͏󠄌͏󠄎͏︈͏͏󠄁\n",
    "# labels = ['A1','A2','A3','A4','A5','A6','A7','A8','A9','A10','A11','A12']͏󠄂͏️͏󠄌͏󠄎͏︈͏͏󠄁\n",
    "\n",
    "## For visualizing challenge.csv dataset͏󠄂͏️͏󠄌͏󠄎͏︈͏͏󠄁\n",
    "# features,classes = load_csv('challenge_train.csv',0)͏󠄂͏️͏󠄌͏󠄎͏︈͏͏󠄁\n",
    "# labels = ['A1','A2','A3','A4','A5','A6','A7','A8','A9','A10','A11','A12','A13','A14','A15','A16','A17','A18','A19'͏󠄂͏️͏󠄌͏󠄎͏︈͏͏󠄁\n",
    "#         ,'A20','A21','A22','A23','A24','A25','A26','A27','A28','A29','A30']͏󠄂͏️͏󠄌͏󠄎͏︈͏͏󠄁"
   ]
  },
  {
   "cell_type": "code",
   "execution_count": null,
   "id": "039fc042",
   "metadata": {},
   "outputs": [],
   "source": [
    "# # Call sklearn decision tree classifier and fit the decision tree on the dataset.͏󠄂͏️͏󠄌͏󠄎͏︈͏͏󠄁\n",
    "estimator = DecisionTreeClassifier()\n",
    "estimator.fit(features, classes)"
   ]
  },
  {
   "cell_type": "code",
   "execution_count": null,
   "id": "fa3fca4e",
   "metadata": {},
   "outputs": [],
   "source": [
    "# Call graph visualization library͏󠄂͏️͏󠄌͏󠄎͏︈͏͏󠄁\n",
    "graph = Source(tree.export_graphviz(estimator, out_file=None\n",
    "   , feature_names=feat_names, class_names=class_names \n",
    "   , filled = True))"
   ]
  },
  {
   "cell_type": "markdown",
   "id": "7649ceb7",
   "metadata": {},
   "source": [
    "### Observations:\n",
    "Observe how the tree is splitting based on the gini index value. What does each node in the tree represent? What attributes is it choosing to split on at each level and why? How is it choosing values for the splits? Can you tell what each of the leaf nodes corresponds to? Observe the number of class samples in the leaf nodes? What does that represent? As the tree grows and contracts based on the dataset, what can you infer? What controls the growth?"
   ]
  },
  {
   "cell_type": "code",
   "execution_count": null,
   "id": "a75fbcfa",
   "metadata": {},
   "outputs": [],
   "source": [
    "# Display Decision Tree͏󠄂͏️͏󠄌͏󠄎͏︈͏͏󠄁\n",
    "display(SVG(graph.pipe(format='svg')))"
   ]
  },
  {
   "cell_type": "code",
   "execution_count": null,
   "id": "227a0861",
   "metadata": {},
   "outputs": [],
   "source": []
  }
 ],
 "metadata": {
  "kernelspec": {
   "display_name": "Python 3 (ipykernel)",
   "language": "python",
   "name": "python3"
  }
 },
 "nbformat": 4,
 "nbformat_minor": 5
}
